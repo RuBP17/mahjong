{
 "cells": [
  {
   "cell_type": "code",
   "execution_count": 1,
   "metadata": {},
   "outputs": [],
   "source": [
    "from naiveAI import AgentNaive, NMnaive\n",
    "import tensorflow as tf\n",
    "import numpy as np\n",
    "from copy import deepcopy\n",
    "import MahjongPy as mp"
   ]
  },
  {
   "cell_type": "code",
   "execution_count": null,
   "metadata": {},
   "outputs": [],
   "source": []
  },
  {
   "cell_type": "code",
   "execution_count": null,
   "metadata": {},
   "outputs": [],
   "source": []
  },
  {
   "cell_type": "code",
   "execution_count": 8,
   "metadata": {},
   "outputs": [
    {
     "name": "stdout",
     "output_type": "stream",
     "text": [
      "ResultType.NoTileRyuuKyoku\n",
      "ResultType.NoTileRyuuKyoku\n",
      "ResultType.NoTileRyuuKyoku\n",
      "ResultType.NoTileRyuuKyoku\n",
      "ResultType.NoTileRyuuKyoku\n",
      "ResultType.NoTileRyuuKyoku\n",
      "ResultType.NoTileRyuuKyoku\n",
      "ResultType.NoTileRyuuKyoku\n",
      "ResultType.NoTileRyuuKyoku\n",
      "ResultType.NoTileRyuuKyoku\n",
      "ResultType.NoTileRyuuKyoku\n"
     ]
    },
    {
     "ename": "KeyboardInterrupt",
     "evalue": "",
     "output_type": "error",
     "traceback": [
      "\u001b[1;31m---------------------------------------------------------------------------\u001b[0m",
      "\u001b[1;31mKeyboardInterrupt\u001b[0m                         Traceback (most recent call last)",
      "\u001b[1;32m<ipython-input-8-4939a7ec58a7>\u001b[0m in \u001b[0;36m<module>\u001b[1;34m()\u001b[0m\n\u001b[0;32m     31\u001b[0m \u001b[1;31m#         print(\"\\r\")\u001b[0m\u001b[1;33m\u001b[0m\u001b[1;33m\u001b[0m\u001b[0m\n\u001b[0;32m     32\u001b[0m \u001b[1;33m\u001b[0m\u001b[0m\n\u001b[1;32m---> 33\u001b[1;33m         \u001b[1;32mif\u001b[0m \u001b[0mPhases\u001b[0m\u001b[1;33m[\u001b[0m\u001b[0mt\u001b[0m\u001b[1;33m.\u001b[0m\u001b[0mget_phase\u001b[0m\u001b[1;33m(\u001b[0m\u001b[1;33m)\u001b[0m\u001b[1;33m]\u001b[0m \u001b[1;33m==\u001b[0m \u001b[1;34m\"GAME_OVER\"\u001b[0m\u001b[1;33m:\u001b[0m\u001b[1;33m\u001b[0m\u001b[0m\n\u001b[0m\u001b[0;32m     34\u001b[0m             \u001b[0mprint\u001b[0m\u001b[1;33m(\u001b[0m\u001b[0mt\u001b[0m\u001b[1;33m.\u001b[0m\u001b[0mget_result\u001b[0m\u001b[1;33m(\u001b[0m\u001b[1;33m)\u001b[0m\u001b[1;33m.\u001b[0m\u001b[0mresult_type\u001b[0m\u001b[1;33m)\u001b[0m\u001b[1;33m\u001b[0m\u001b[0m\n\u001b[0;32m     35\u001b[0m             \u001b[1;32mbreak\u001b[0m\u001b[1;33m\u001b[0m\u001b[0m\n",
      "\u001b[1;31mKeyboardInterrupt\u001b[0m: "
     ]
    }
   ],
   "source": [
    "\n",
    "\n",
    "Phases = (\"P1_ACTION\", \"P2_ACTION\", \"P3_ACTION\", \"P4_ACTION\", \"P1_RESPONSE\", \"P2_RESPONSE\", \"P3_RESPONSE\", \"P4_RESPONSE\",\n",
    "    \"P1_抢杠RESPONSE\", \"P2_抢杠RESPONSE\", \"P3_抢杠RESPONSE\", \"P4_抢杠RESPONSE\",\n",
    "    \"P1_抢暗杠RESPONSE\", \"P2_抢暗杠RESPONSE\", \" P3_抢暗杠RESPONSE\", \" P4_抢暗杠RESPONSE\", \"GAME_OVER\")\n",
    "\n",
    "for n in range(10000):\n",
    "    t = mp.Table()\n",
    "    t.game_init()\n",
    "    for m in range(5000):\n",
    "        # print(Phases[t.get_phase()] )\n",
    "        \n",
    "        if t.get_phase() < 4:\n",
    "            aval_actions = t.get_self_actions()\n",
    "            a = np.random.randint(len(aval_actions))\n",
    "            if aval_actions[a].action == mp.Action.Tsumo:\n",
    "                print(aval_actions[a].action)\n",
    "                for i in range(len(aval_actions[a].correspond_tiles)):\n",
    "                    print(aval_actions[a].correspond_tiles[i].tile)\n",
    "            t.make_selection(a)\n",
    "        else:\n",
    "            aval_actions = t.get_response_actions()\n",
    "            a = np.random.randint(len(aval_actions))\n",
    "            \n",
    "            if aval_actions[a].action == mp.Action.Ron:\n",
    "                print(aval_actions[a].action)\n",
    "                for i in range(len(aval_actions[a].correspond_tiles)):\n",
    "                    print(aval_actions[a].correspond_tiles[i].tile)\n",
    "            t.make_selection(a)\n",
    "            \n",
    "#         print(\"\\r\")\n",
    "        \n",
    "        if Phases[t.get_phase()] == \"GAME_OVER\":  \n",
    "            print(t.get_result().result_type)\n",
    "            break\n",
    "        \n",
    "    if t.get_result().result_type == mp.ResultType.RonAgari or t.get_result().result_type == mp.ResultType.TsumoAgari:\n",
    "        break\n",
    "\n"
   ]
  },
  {
   "cell_type": "code",
   "execution_count": null,
   "metadata": {},
   "outputs": [],
   "source": [
    "t.get_result().to_string()"
   ]
  },
  {
   "cell_type": "code",
   "execution_count": null,
   "metadata": {},
   "outputs": [],
   "source": [
    "t.get_result().score"
   ]
  },
  {
   "cell_type": "code",
   "execution_count": 9,
   "metadata": {},
   "outputs": [
    {
     "name": "stdout",
     "output_type": "stream",
     "text": [
      "player 0\n",
      "BaseTile._1m\n",
      "BaseTile._2m\n",
      "BaseTile._8m\n",
      "BaseTile._1p\n",
      "BaseTile.east\n",
      "BaseTile.west\n",
      "BaseTile.chu\n",
      "player 1\n",
      "BaseTile._4m\n",
      "BaseTile._5m\n",
      "BaseTile._9m\n",
      "BaseTile._1s\n",
      "BaseTile._4s\n",
      "BaseTile._9s\n",
      "BaseTile.south\n",
      "BaseTile.south\n",
      "BaseTile.west\n",
      "BaseTile.haku\n",
      "player 2\n",
      "BaseTile._3m\n",
      "BaseTile._3m\n",
      "BaseTile._3m\n",
      "BaseTile._6m\n",
      "BaseTile._9m\n",
      "BaseTile._5s\n",
      "BaseTile._8s\n",
      "BaseTile._9s\n",
      "BaseTile._6p\n",
      "BaseTile._9p\n",
      "player 3\n",
      "BaseTile._1m\n",
      "BaseTile._2m\n",
      "BaseTile._2m\n",
      "BaseTile._6m\n",
      "BaseTile._1s\n",
      "BaseTile._2s\n",
      "BaseTile._4s\n",
      "BaseTile._6s\n",
      "BaseTile._8s\n",
      "BaseTile._2p\n",
      "BaseTile._5p\n",
      "BaseTile._8p\n",
      "BaseTile.hatsu\n",
      "BaseTile.hatsu\n"
     ]
    }
   ],
   "source": [
    "for p in range(4):\n",
    "    hand = t.players[p].hand\n",
    "    print('player {}'.format(p))\n",
    "    for k in range(len(hand)):\n",
    "        print(hand[k].tile)"
   ]
  },
  {
   "cell_type": "code",
   "execution_count": 10,
   "metadata": {},
   "outputs": [
    {
     "name": "stdout",
     "output_type": "stream",
     "text": [
      "player 0\n",
      "[5m][6m]([7m])\n",
      "[4s]([5s])[6s]\n",
      "player 1\n",
      "([6p])[7p][8p]\n",
      "player 2\n",
      "[6s][7s]([8s])\n",
      "player 3\n"
     ]
    }
   ],
   "source": [
    "for p in range(4):\n",
    "    fulus = t.players[p].fulus\n",
    "    print('player {}'.format(p))\n",
    "    for k in range(len(fulus)):\n",
    "        print(fulus[k].to_string())\n",
    "    "
   ]
  },
  {
   "cell_type": "code",
   "execution_count": null,
   "metadata": {},
   "outputs": [],
   "source": [
    "aval_actions = t.get_self_actions()\n",
    "\n",
    "print(aval_actions)\n",
    "print(t.get_selected_action())\n",
    "\n",
    "print(t.who_make_selection())\n",
    "print(t.get_phase())\n",
    "\n",
    "print(t.players[1].hand)\n",
    "\n",
    "print(t.players[1].hand[0].tile)\n",
    "print(t.players[1].hand[1].tile)"
   ]
  },
  {
   "cell_type": "code",
   "execution_count": null,
   "metadata": {},
   "outputs": [],
   "source": [
    "print(t.players[1].is_furiten())"
   ]
  },
  {
   "cell_type": "code",
   "execution_count": null,
   "metadata": {},
   "outputs": [],
   "source": [
    "\n",
    "print(Phases[t.get_phase()] )\n"
   ]
  },
  {
   "cell_type": "code",
   "execution_count": null,
   "metadata": {},
   "outputs": [],
   "source": [
    "\n",
    "if t.get_phase() < 4:\n",
    "    aval_actions = t.get_self_actions()\n",
    "    a = np.random.randint(len(aval_actions))\n",
    "    print(aval_actions[a].action)\n",
    "    print(aval_actions[a].correspond_tiles[0].tile)\n",
    "    t.make_selection(a)\n",
    "else:\n",
    "    aval_actions = t.get_response_actions()\n",
    "\n",
    "    a = np.random.randint(len(aval_actions))\n",
    "    print(aval_actions[a].action)\n",
    "    print(aval_actions[a].correspond_tiles[0].tile)\n",
    "    t.make_selection(a)\n",
    "\n",
    "print(t.get_result().result_type)\n",
    "\n",
    "if Phases[t.get_phase()] == \"GAME_OVER\":  \n",
    "    break"
   ]
  },
  {
   "cell_type": "code",
   "execution_count": null,
   "metadata": {},
   "outputs": [],
   "source": [
    "aval_actions = t.get_self_actions()"
   ]
  },
  {
   "cell_type": "code",
   "execution_count": null,
   "metadata": {},
   "outputs": [],
   "source": [
    "aval_actions = t.get_response_actions()"
   ]
  },
  {
   "cell_type": "code",
   "execution_count": null,
   "metadata": {},
   "outputs": [],
   "source": [
    "t.get_result().result_type"
   ]
  },
  {
   "cell_type": "code",
   "execution_count": null,
   "metadata": {},
   "outputs": [],
   "source": []
  },
  {
   "cell_type": "code",
   "execution_count": null,
   "metadata": {},
   "outputs": [],
   "source": [
    "print(aval_actions[a].correspond_tiles[0].tile)"
   ]
  },
  {
   "cell_type": "code",
   "execution_count": null,
   "metadata": {},
   "outputs": [],
   "source": [
    "aval_actions = t.get_response_actions()"
   ]
  },
  {
   "cell_type": "code",
   "execution_count": null,
   "metadata": {},
   "outputs": [],
   "source": [
    "a = np.random.randint(3)"
   ]
  },
  {
   "cell_type": "code",
   "execution_count": null,
   "metadata": {},
   "outputs": [],
   "source": [
    "aval_actions[0].action"
   ]
  },
  {
   "cell_type": "code",
   "execution_count": null,
   "metadata": {},
   "outputs": [],
   "source": [
    "aval_actions[0].correspond_tiles"
   ]
  },
  {
   "cell_type": "code",
   "execution_count": null,
   "metadata": {},
   "outputs": [],
   "source": [
    "t.make_selection(0)"
   ]
  },
  {
   "cell_type": "code",
   "execution_count": null,
   "metadata": {},
   "outputs": [],
   "source": [
    "t.get_selected_action()."
   ]
  },
  {
   "cell_type": "code",
   "execution_count": null,
   "metadata": {},
   "outputs": [],
   "source": [
    "rb = t.get_response_actions()"
   ]
  },
  {
   "cell_type": "code",
   "execution_count": null,
   "metadata": {},
   "outputs": [],
   "source": [
    "t.make_selection(0)"
   ]
  },
  {
   "cell_type": "code",
   "execution_count": null,
   "metadata": {},
   "outputs": [],
   "source": [
    "t.get_selected_action()"
   ]
  },
  {
   "cell_type": "code",
   "execution_count": null,
   "metadata": {},
   "outputs": [],
   "source": [
    "t.players[0].wind"
   ]
  },
  {
   "cell_type": "code",
   "execution_count": null,
   "metadata": {},
   "outputs": [],
   "source": []
  },
  {
   "cell_type": "code",
   "execution_count": null,
   "metadata": {},
   "outputs": [],
   "source": [
    "class EnvMahjong(gym.Env):\n",
    "    Phases = (\"P1_ACTION\", \"P2_ACTION\", \"P3_ACTION\", \"P4_ACTION\", \"P1_RESPONSE\", \"P2_RESPONSE\", \"P3_RESPONSE\", \"P4_RESPONSE\",\n",
    "    \"P1_抢杠RESPONSE\", \"P2_抢杠RESPONSE\", \"P3_抢杠RESPONSE\", \"P4_抢杠RESPONSE\",\n",
    "    \"P1_抢暗杠RESPONSE\", \"P2_抢暗杠RESPONSE\", \" P3_抢暗杠RESPONSE\", \" P4_抢暗杠RESPONSE\", \"GAME_OVER\")\n",
    "    metadata = {'name':'Mahjong', 'render.modes': ['human', 'rgb_array'], 'video.frames_per_second': 50}\n",
    "    spec = {'id':'TaskT'}\n",
    "    \n",
    "    def __init__(self):\n",
    "        self.t = mp.Table()\n",
    "        self.rons = [];\n",
    "        self.game_count = 0;\n",
    "        \n",
    "        self.scores_init = np.zeros([4], dtype=np.float32)\n",
    "        for i in range(4):\n",
    "            self.scores_init[i] = self.t.players[i].score\n",
    "            \n",
    "        self.scores_before = np.zeros([4], dtype=np.float32)\n",
    "        for i in range(4):\n",
    "            self.scores_before[i] = self.t.players[i].score\n",
    "            \n",
    "    def reset(self):\n",
    "        self.t = mp.Table()\n",
    "        self.t.game_init()\n",
    "        self.game_count += 1;\n",
    "        \n",
    "        return self.get_state_(0)\n",
    "        \n",
    "    def step_play(self, action, playerNo):\n",
    "        # self action phase\n",
    "        current_playerNo = self.t.who_make_selection()\n",
    "        \n",
    "        if not self.t.get_phase < 4:  \n",
    "            raise Exception(\"Current phase is not self-action phase!!\")\n",
    "        if not current_playerNo == playerNo:\n",
    "            raise Exception(\"Current player is not the one neesd to execute action!!\")\n",
    "        \n",
    "        info = {\"playerNo\": playerNo}\n",
    "        self.score_before = self.t.players[playerNo].score\n",
    "        \n",
    "        self.t.make_selection(action)\n",
    "        \n",
    "        new_state = self.get_state_(playerNo)\n",
    "        reward = self.t.players[playerNo].score - self.score_before\n",
    "        \n",
    "        if Phase[self.t.get_phase()] == \"GAME_OVER\":\n",
    "            done = 1\n",
    "            \n",
    "            if self.t.get_result().result_type == mp.ResultType.RonAgari or self.t.get_result().result_type == mp.ResultType.TsumoAgari:\n",
    "                self.rons.append(get_final_score_change())\n",
    "            else:\n",
    "                self.rons.append(np.zeros([4], dtype=np.float32))\n",
    "            \n",
    "        else:\n",
    "            done = 0\n",
    "            \n",
    "        \n",
    "        return new_state, reward, done, info\n",
    "    \n",
    "    def get_final_score_change(self):\n",
    "        rewards = np.zeros([4], dtype=np.float32)\n",
    "        for i in range(4):\n",
    "            rewards[i] = self.t.players[i].score - self.scores_before[i]\n",
    "        \n",
    "        return rewards\n",
    "            \n",
    "    def step_response(self, actions):\n",
    "        # response phase, need actions from 4 players\n",
    "        \n",
    "        if not self.t.get_phase >= 4 and not self.t.get_phase == 16:\n",
    "            raise Exception(\"Current phase is not response phase!!\")\n",
    "        if not current_playerNo == playerNo:\n",
    "            raise Exception(\"Current player is not the one neesd to execute action!!\")\n",
    "        \n",
    "        rewards = np.zeros([4], dtype=np.float32)\n",
    "        \n",
    "        for i in range(4):\n",
    "            self.scores_before[i] = self.t.players[i].score\n",
    "        \n",
    "        for i in range(4):\n",
    "            self.t.make_selection(actions[i])\n",
    "        \n",
    "        for i in range(4):\n",
    "            new_states.append(self.get_state_(i))\n",
    "            rewards[i] = self.t.players[i].score - self.scores_before(i)\n",
    "        \n",
    "        for i in range(4):  # record latest scores\n",
    "            self.scores_before[i] = self.t.players[i].score\n",
    "            \n",
    "        info = {}\n",
    "        \n",
    "        return new_states, rewards, done, info\n",
    "    \n",
    "    def get_state_(self, playerNo:int, t=None):\n",
    "        \n",
    "        if t == None:  # for obtaining next_aval_states\n",
    "            t = self.t\n",
    "        else:\n",
    "            t = deepcopy(t)\n",
    "        \n",
    "        hand = t.players[playerNo].hand\n",
    "        \n",
    "        hand_matrix_naive = np.zeros([34, 4], dtype=np.float32) \n",
    "        tile_num = np.zeros([34], dtype=np.int32)\n",
    "        \n",
    "        for k in range(len(hand)):\n",
    "            id = self.tile_to_id(hand[k].tile)\n",
    "            hand_matrix_naive[id, tile_num[id]] = 1.\n",
    "            tile_num[id] += 1\n",
    "        \n",
    "        return hand_matrix_naive\n",
    "    \n",
    "    def get_next_state(self, t:mp.Table, action:int, playerNo:int):\n",
    "        t.make_selection(action)\n",
    "        return self.get_state_(playerNo, t=t)\n",
    "        \n",
    "    def get_aval_next_states(self, playerNo:int):\n",
    "        \n",
    "        current_playerNo = self.who_make_selection()\n",
    "        if not current_playerNo == playerNo:\n",
    "            raise Exception(\"Current player is not the one neesd to execute action!!\")\n",
    "        \n",
    "        if self.t.get_phase >= 4 and not self.t.get_phase == 16:  # response phase\n",
    "            aval_actions = self.t.get_self_actions()\n",
    "        elif self.t.get_phase < 4:  # action phase\n",
    "            aval_actions = self.t.get_response_actions()\n",
    "            \n",
    "        aval_next_states = []\n",
    "        for j in range(len(aval_actions)):\n",
    "            aval_next_states.append(self.get_next_state(deepcopy(self.t), j, playerNo))\n",
    "            \n",
    "        return aval_next_states\n",
    "        \n",
    "    def tile_to_id(self, tile):\n",
    "        if tile == mp.BaseTile._1m:\n",
    "            return 0\n",
    "        elif tile == mp.BaseTile._2m:\n",
    "            return 1\n",
    "        elif tile == mp.BaseTile._3m:\n",
    "            return 2\n",
    "        elif tile == mp.BaseTile._4m:\n",
    "            return 3\n",
    "        elif tile == mp.BaseTile._5m:\n",
    "            return 4\n",
    "        elif tile == mp.BaseTile._6m:\n",
    "            return 5\n",
    "        elif tile == mp.BaseTile._7m:\n",
    "            return 6\n",
    "        elif tile == mp.BaseTile._8m:\n",
    "            return 7\n",
    "        elif tile == mp.BaseTile._9m:\n",
    "            return 8\n",
    "        elif tile == mp.BaseTile._1p:\n",
    "            return 9\n",
    "        elif tile == mp.BaseTile._2p:\n",
    "            return 10\n",
    "        elif tile == mp.BaseTile._3p:\n",
    "            return 11\n",
    "        elif tile == mp.BaseTile._4p:\n",
    "            return 12\n",
    "        elif tile == mp.BaseTile._5p:\n",
    "            return 13\n",
    "        elif tile == mp.BaseTile._6p:\n",
    "            return 14\n",
    "        elif tile == mp.BaseTile._7p:\n",
    "            return 15\n",
    "        elif tile == mp.BaseTile._8p:\n",
    "            return 16\n",
    "        elif tile == mp.BaseTile._9p:\n",
    "            return 17\n",
    "        elif tile == mp.BaseTile._1s:\n",
    "            return 18\n",
    "        elif tile == mp.BaseTile._2s:\n",
    "            return 19\n",
    "        elif tile == mp.BaseTile._3s:\n",
    "            return 20\n",
    "        elif tile == mp.BaseTile._4s:\n",
    "            return 21\n",
    "        elif tile == mp.BaseTile._5s:\n",
    "            return 22\n",
    "        elif tile == mp.BaseTile._6s:\n",
    "            return 23\n",
    "        elif tile == mp.BaseTile._7s:\n",
    "            return 24\n",
    "        elif tile == mp.BaseTile._8s:\n",
    "            return 25\n",
    "        elif tile == mp.BaseTile._9s:\n",
    "            return 26\n",
    "        elif tile == mp.BaseTile.east:\n",
    "            return 27\n",
    "        elif tile == mp.BaseTile.south:\n",
    "            return 28\n",
    "        elif tile == mp.BaseTile.west:\n",
    "            return 29\n",
    "        elif tile == mp.BaseTile.north:\n",
    "            return 30\n",
    "        elif tile == mp.BaseTile.chu:\n",
    "            return 31\n",
    "        elif tile == mp.BaseTile.hatsu:\n",
    "            return 32\n",
    "        elif tile == mp.BaseTile.haku:\n",
    "            return 33\n",
    "        else:\n",
    "            raise Exception(\"Input must be a tile!!\")"
   ]
  },
  {
   "cell_type": "code",
   "execution_count": null,
   "metadata": {},
   "outputs": [],
   "source": []
  },
  {
   "cell_type": "code",
   "execution_count": null,
   "metadata": {},
   "outputs": [],
   "source": [
    "t.players[3].hand[2].tile == mp.BaseTile._8p"
   ]
  },
  {
   "cell_type": "code",
   "execution_count": null,
   "metadata": {},
   "outputs": [],
   "source": [
    "t.players[1].hand"
   ]
  },
  {
   "cell_type": "code",
   "execution_count": null,
   "metadata": {},
   "outputs": [],
   "source": []
  },
  {
   "cell_type": "code",
   "execution_count": null,
   "metadata": {},
   "outputs": [],
   "source": [
    "class EnvMahjong(mp.Table):\n",
    "    \"\"\"\n",
    "    An example mahjong environment for agent to interact with.\n",
    "    \"\"\"\n",
    "    def __init__(self):\n",
    "        pass\n",
    "    \n",
    "    def reset(self):\n",
    "        self.turn = 0\n",
    "        init_state = np.random.randint(low=0, high=2, size=[1, 34, 4, 1]).astype(np.float32)\n",
    "        return init_state\n",
    "        \n",
    "        \n",
    "    def step(self, action):\n",
    "        \"\"\"\n",
    "        param: action is an action generated by the agent (agent.select()), \n",
    "            action=None means there is no available action, just go to next state\n",
    "        \"\"\"\n",
    "        \n",
    "        next_state = np.random.randint(low=0, high=2, size=[1, 34, 4, 1]).astype(np.float32)\n",
    "        score = 0.  # if next_state 胡了, score = 胡的分数, else score = 0\n",
    "        \n",
    "        if self.turn >= 100:\n",
    "            done = 1 # done=1 means this game terminates\n",
    "        else:\n",
    "            done = 0\n",
    "            \n",
    "        info = {'turn': self.turn} # other information not included in state\n",
    "        \n",
    "        self.turn += 1\n",
    "        \n",
    "        return next_state, score, done, info\n",
    "    \n",
    "    def get_aval_actions(self):\n",
    "        N = np.random.randint(low=1, high=13)\n",
    "        if N == 0:  # no available actions\n",
    "            next_aval_states = None\n",
    "        else:\n",
    "            next_aval_states = np.random.randint(low=0, high=2, size=[N, 34, 4, 1]).astype(np.float32)\n",
    "                \n",
    "        return next_aval_states\n",
    "    \n",
    "    "
   ]
  },
  {
   "cell_type": "code",
   "execution_count": null,
   "metadata": {},
   "outputs": [],
   "source": [
    "sess = tf.InteractiveSession()\n",
    "\n",
    "nn = NMnaive(sess)\n",
    "env = EnvMahjong()\n",
    "memory = PrioritizedReplayBuffer(state_dim=34*4, action_dim=34)\n",
    "\n",
    "agent = AgentNaive(nn, memory)"
   ]
  },
  {
   "cell_type": "code",
   "execution_count": null,
   "metadata": {},
   "outputs": [],
   "source": [
    "n_games = 2\n",
    "\n",
    "for n in range(n_games):\n",
    "    done = 0\n",
    "    this_state = env.reset()\n",
    "    \n",
    "    step = 0\n",
    "    \n",
    "    while not done and step < 10000:\n",
    "\n",
    "        next_aval_states = env.get_aval_actions()\n",
    "        action, policy = agent.select(next_aval_states)\n",
    "\n",
    "        next_state, score, done, info = env.step(action)\n",
    "\n",
    "        agent.remember(this_state, action, next_state, score, done, next_aval_states, policy)\n",
    "        agent.learn()\n",
    "        \n",
    "        this_state = deepcopy(next_state)\n",
    "        step += 1\n",
    "        \n",
    "        print(\"Game {}, step {}\".format(n, step))\n",
    "        print(info)\n",
    "        \n",
    "        "
   ]
  },
  {
   "cell_type": "code",
   "execution_count": null,
   "metadata": {},
   "outputs": [],
   "source": [
    "a = np.float64(500)"
   ]
  },
  {
   "cell_type": "code",
   "execution_count": null,
   "metadata": {},
   "outputs": [],
   "source": [
    "np.exp(a)"
   ]
  },
  {
   "cell_type": "code",
   "execution_count": 1,
   "metadata": {},
   "outputs": [],
   "source": [
    "import scipy.special as ss"
   ]
  },
  {
   "cell_type": "code",
   "execution_count": 21,
   "metadata": {},
   "outputs": [
    {
     "name": "stdout",
     "output_type": "stream",
     "text": [
      "[0.11920292 0.88079708]\n"
     ]
    }
   ],
   "source": [
    "tmp = ss.softmax([10, 12])\n",
    "print(tmp)"
   ]
  },
  {
   "cell_type": "code",
   "execution_count": 19,
   "metadata": {},
   "outputs": [
    {
     "data": {
      "text/plain": [
       "1.0"
      ]
     },
     "execution_count": 19,
     "metadata": {},
     "output_type": "execute_result"
    }
   ],
   "source": [
    "np.sum(tmp)"
   ]
  },
  {
   "cell_type": "code",
   "execution_count": null,
   "metadata": {},
   "outputs": [],
   "source": []
  }
 ],
 "metadata": {
  "kernelspec": {
   "display_name": "Python 3",
   "language": "python",
   "name": "python3"
  },
  "language_info": {
   "codemirror_mode": {
    "name": "ipython",
    "version": 3
   },
   "file_extension": ".py",
   "mimetype": "text/x-python",
   "name": "python",
   "nbconvert_exporter": "python",
   "pygments_lexer": "ipython3",
   "version": "3.6.2"
  }
 },
 "nbformat": 4,
 "nbformat_minor": 2
}
