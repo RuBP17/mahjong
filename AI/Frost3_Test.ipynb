{
 "cells": [
  {
   "cell_type": "code",
   "execution_count": 1,
   "id": "79c47d01-9abd-4519-84b5-ebc4c31af19a",
   "metadata": {},
   "outputs": [],
   "source": [
    "from wrapper import *\n",
    "import MahjongPy as mp\n",
    "import os\n",
    "import time\n",
    "import logging\n",
    "import warnings\n",
    "\n",
    "import numpy as np\n",
    "import scipy.io as sio\n",
    "import torch\n",
    "import matplotlib.pyplot as plt"
   ]
  },
  {
   "cell_type": "code",
   "execution_count": 14,
   "id": "6afb4174-01d6-4f75-8ed2-8c8fd73cfa47",
   "metadata": {},
   "outputs": [],
   "source": [
    "\n",
    "UNICODE_TILES = \"\"\"\n",
    "    🀇 🀈 🀉 🀊 🀋 🀌 🀍 🀎 🀏 \n",
    "    🀙 🀚 🀛 🀜 🀝 🀞 🀟 🀠 🀡\n",
    "    🀐 🀑 🀒 🀓 🀔 🀕 🀖 🀗 🀘\n",
    "    🀀 🀁 🀂 🀃\n",
    "    🀆 🀅 🀄\n",
    "\"\"\".split()\n",
    "\n",
    "EXPLAINS = UNICODE_TILES + [\"Chi-Left\", \"Chi-Middle\", \"Chi-Right\", \"Pon\", \"An-Kan\",\n",
    "           \"Min-Kan\", \"Add-Kan\", \"Riichi\", \"Ron\", \"Tsumo\", \"Push 99\", \"Pass\"]\n",
    "\n",
    "\n",
    "def to_unicode_tails(tiles, sort=True):\n",
    "    unicode_tail_string = \"\"\n",
    "    if sort:\n",
    "        tiles = np.sort(np.array(tiles))\n",
    "\n",
    "    for tile in tiles:\n",
    "        unicode_tail_string = unicode_tail_string + UNICODE_TILES[int(tile / 4)]\n",
    "\n",
    "    return unicode_tail_string"
   ]
  },
  {
   "cell_type": "code",
   "execution_count": 10,
   "id": "297d7b31-3c87-4d62-b98f-bab50fb1f387",
   "metadata": {},
   "outputs": [],
   "source": [
    "env_test = EnvMahjong3()\n",
    "max_steps = 1000"
   ]
  },
  {
   "cell_type": "code",
   "execution_count": 3,
   "id": "b95cd3bd-0206-4ef7-a4a4-13ea755d7f80",
   "metadata": {},
   "outputs": [],
   "source": [
    "sp = env_test.reset(0, 'east')"
   ]
  },
  {
   "cell_type": "code",
   "execution_count": 4,
   "id": "700f2a84-56cc-48a4-93ec-65070b7c4a4a",
   "metadata": {},
   "outputs": [
    {
     "data": {
      "text/plain": [
       "69"
      ]
     },
     "execution_count": 4,
     "metadata": {},
     "output_type": "execute_result"
    }
   ],
   "source": [
    "env_test.t.get_remain_tile()"
   ]
  },
  {
   "cell_type": "code",
   "execution_count": null,
   "id": "4ab3f0eb-0708-468f-a1c2-7094b0fd5164",
   "metadata": {},
   "outputs": [],
   "source": []
  },
  {
   "cell_type": "code",
   "execution_count": null,
   "id": "3786d880-75f1-42c0-8f7d-7f770f3a06db",
   "metadata": {},
   "outputs": [],
   "source": []
  },
  {
   "cell_type": "code",
   "execution_count": null,
   "id": "21c241c7-7dd1-4ae3-80a9-a24e49e86162",
   "metadata": {},
   "outputs": [],
   "source": []
  },
  {
   "cell_type": "code",
   "execution_count": null,
   "id": "2adeda03-3bd2-48bf-9fff-d3277dab2101",
   "metadata": {},
   "outputs": [],
   "source": []
  },
  {
   "cell_type": "code",
   "execution_count": 19,
   "id": "ba90c2ea-6276-46ff-9f54-b2f646fb4787",
   "metadata": {},
   "outputs": [
    {
     "name": "stdout",
     "output_type": "stream",
     "text": [
      "======= Game 0 ========\n",
      "-------------- Step 0, player 0 ----------------\n",
      "手牌:  🀎🀏🀙🀚🀛🀡🀐🀔🀕🀗🀀🀀🀄🀄 ； 副露： \n",
      "Agent选择打:  🀛\n",
      "-------------- Step 5, player 1 ----------------\n",
      "手牌:  🀇🀈🀉🀌🀍🀎🀏🀚🀜🀠🀠🀘🀁🀂 ； 副露： \n",
      "Agent选择打:  🀚\n"
     ]
    },
    {
     "ename": "TypeError",
     "evalue": "unsupported operand type(s) for /: 'NoneType' and 'int'",
     "output_type": "error",
     "traceback": [
      "\u001b[1;31m---------------------------------------------------------------------------\u001b[0m",
      "\u001b[1;31mTypeError\u001b[0m                                 Traceback (most recent call last)",
      "\u001b[1;32m<ipython-input-19-03a2b9196363>\u001b[0m in \u001b[0;36m<module>\u001b[1;34m\u001b[0m\n\u001b[0;32m     39\u001b[0m \u001b[1;31m#         action_mask = env_test.get_valid_actions()\u001b[0m\u001b[1;33m\u001b[0m\u001b[1;33m\u001b[0m\u001b[0m\n\u001b[0;32m     40\u001b[0m \u001b[1;33m\u001b[0m\u001b[0m\n\u001b[1;32m---> 41\u001b[1;33m         \u001b[0mvalid_actions\u001b[0m \u001b[1;33m=\u001b[0m \u001b[0menv_test\u001b[0m\u001b[1;33m.\u001b[0m\u001b[0mget_valid_actions\u001b[0m\u001b[1;33m(\u001b[0m\u001b[0mnhot\u001b[0m\u001b[1;33m=\u001b[0m\u001b[1;32mFalse\u001b[0m\u001b[1;33m)\u001b[0m\u001b[1;33m\u001b[0m\u001b[0m\n\u001b[0m\u001b[0;32m     42\u001b[0m         \u001b[0mcurr_pid\u001b[0m \u001b[1;33m=\u001b[0m \u001b[0menv_test\u001b[0m\u001b[1;33m.\u001b[0m\u001b[0mget_curr_player_id\u001b[0m\u001b[1;33m(\u001b[0m\u001b[1;33m)\u001b[0m\u001b[1;33m\u001b[0m\u001b[0m\n\u001b[0;32m     43\u001b[0m \u001b[1;33m\u001b[0m\u001b[0m\n",
      "\u001b[1;32mC:\\Code\\mahjong\\AI\\wrapper.py\u001b[0m in \u001b[0;36mget_valid_actions\u001b[1;34m(self, nhot)\u001b[0m\n\u001b[0;32m    329\u001b[0m                 \u001b[1;32melif\u001b[0m \u001b[0mact\u001b[0m\u001b[1;33m.\u001b[0m\u001b[0maction\u001b[0m \u001b[1;33m==\u001b[0m \u001b[0mmp\u001b[0m\u001b[1;33m.\u001b[0m\u001b[0mAction\u001b[0m\u001b[1;33m.\u001b[0m\u001b[0mChi\u001b[0m\u001b[1;33m:\u001b[0m\u001b[1;33m\u001b[0m\u001b[0m\n\u001b[0;32m    330\u001b[0m                     \u001b[0mchi_parents_tiles\u001b[0m \u001b[1;33m=\u001b[0m \u001b[0mact\u001b[0m\u001b[1;33m.\u001b[0m\u001b[0mcorrespond_tiles\u001b[0m\u001b[1;33m\u001b[0m\u001b[0m\n\u001b[1;32m--> 331\u001b[1;33m                     if is_consecutive(int(self.latest_tile / 4), int(chi_parents_tiles[0].tile),\n\u001b[0m\u001b[0;32m    332\u001b[0m                                       int(chi_parents_tiles[1].tile)):\n\u001b[0;32m    333\u001b[0m                         \u001b[0mchi_side\u001b[0m \u001b[1;33m=\u001b[0m \u001b[0mCHILEFT\u001b[0m\u001b[1;33m\u001b[0m\u001b[0m\n",
      "\u001b[1;31mTypeError\u001b[0m: unsupported operand type(s) for /: 'NoneType' and 'int'"
     ]
    }
   ],
   "source": [
    "EpiTestRet = 0\n",
    "steps_taken = 0\n",
    "\n",
    "for game in range(10):\n",
    "    \n",
    "    print(\"======= Game {} ========\".format(game))\n",
    "\n",
    "    # reset each episode\n",
    "    sp = env_test.reset(0, 'east')\n",
    "\n",
    "#     action_mask = env_test.get_valid_actions()\n",
    "    valid_actions = env_test.get_valid_actions(nhot=False)\n",
    "    curr_pid = env_test.get_curr_player_id()\n",
    "    \n",
    "    a = valid_actions[np.random.randint(len(valid_actions))]\n",
    "    \n",
    "#     if curr_pid == 0:\n",
    "#         if not full_obs:\n",
    "#             a = agents_test[curr_pid].select(sp, action_mask)\n",
    "#         else:\n",
    "#             a = agents_test[curr_pid].select(env_test.get_full_obs(env_test.get_curr_player_id()), action_mask)\n",
    "#     else:\n",
    "#         a = agents_test[curr_pid].step(env_test.get_state(curr_pid))\n",
    "\n",
    "    for tt in range(max_steps):\n",
    "        if a < 45:\n",
    "            print(\"-------------- Step {}, player {} ----------------\".format(tt, curr_pid))\n",
    "            side_tiles_0 = [st[0] for st in env_test.side_tiles[curr_pid]]\n",
    "            print(\"手牌: \", to_unicode_tails(env_test.hand_tiles[curr_pid]),\n",
    "                  \"； 副露：\", to_unicode_tails(side_tiles_0))\n",
    "            if a < 34:\n",
    "                agent_selection_str = UNICODE_TILES[a]\n",
    "            else:\n",
    "                agent_selection_str = EXPLAINS[a]\n",
    "\n",
    "            print(\"Agent选择打: \", agent_selection_str)\n",
    "        \n",
    "        sp, r, done, _ = env_test.step(curr_pid, a)\n",
    "#         action_mask = env_test.get_valid_actions()\n",
    "\n",
    "        valid_actions = env_test.get_valid_actions(nhot=False)\n",
    "        curr_pid = env_test.get_curr_player_id()\n",
    "        \n",
    "        a = valid_actions[np.random.randint(len(valid_actions))]\n",
    "        \n",
    "#         if curr_pid == 0:\n",
    "#             if not full_obs:\n",
    "#                 a = agents_test[curr_pid].select(sp, action_mask)\n",
    "#             else:\n",
    "#                 a = agents_test[curr_pid].select(env_test.get_full_obs(env_test.get_curr_player_id()), action_mask)\n",
    "#         else:\n",
    "#             a = agents_test[curr_pid].step(env_test.get_state(curr_pid))\n",
    "\n",
    "        steps_taken += 1\n",
    "\n",
    "        if done:\n",
    "            payoffs = env_test.get_payoffs()\n",
    "            EpiTestRet += payoffs[0]\n",
    "            print(\"~~~~~~~~~~~~Result: \", payoffs)\n",
    "            break"
   ]
  },
  {
   "cell_type": "code",
   "execution_count": 8,
   "id": "7ec4834e-7057-4a64-9445-de427fc936ea",
   "metadata": {},
   "outputs": [
    {
     "data": {
      "text/plain": [
       "(1, 'response')"
      ]
     },
     "execution_count": 8,
     "metadata": {},
     "output_type": "execute_result"
    }
   ],
   "source": [
    "env_test.who_do_what()"
   ]
  },
  {
   "cell_type": "code",
   "execution_count": null,
   "id": "430827ec-12d6-4f40-b6e9-86176f91ffc4",
   "metadata": {},
   "outputs": [],
   "source": []
  },
  {
   "cell_type": "code",
   "execution_count": 7,
   "id": "80cf373e-20c0-4274-bc0d-276371030242",
   "metadata": {},
   "outputs": [
    {
     "data": {
      "text/plain": [
       "1"
      ]
     },
     "execution_count": 7,
     "metadata": {},
     "output_type": "execute_result"
    }
   ],
   "source": [
    "tt"
   ]
  },
  {
   "cell_type": "code",
   "execution_count": null,
   "id": "8c14d59e-f811-4f0a-9866-8ac67712f54d",
   "metadata": {},
   "outputs": [],
   "source": [
    "int(env_test.t.get_selected_action_tile().tile)"
   ]
  },
  {
   "cell_type": "code",
   "execution_count": null,
   "id": "62b657c5-2d97-4e26-8aba-b5e0fb172e1f",
   "metadata": {},
   "outputs": [],
   "source": [
    "env_test.t.get_response_actions()[0].action"
   ]
  },
  {
   "cell_type": "code",
   "execution_count": null,
   "id": "3d8f021e-e75c-4880-8e96-ef19fc341722",
   "metadata": {},
   "outputs": [],
   "source": [
    "env_test.t.players[curr_pid].hand.__len__()"
   ]
  },
  {
   "cell_type": "code",
   "execution_count": null,
   "id": "f8c87741-525f-4f5e-be58-acfb960c7a41",
   "metadata": {},
   "outputs": [],
   "source": [
    "env_test.Phases[env_test.t.get_phase()]"
   ]
  },
  {
   "cell_type": "code",
   "execution_count": null,
   "id": "41e9f653-cf42-4f27-b7af-6712dc1e7c7c",
   "metadata": {},
   "outputs": [],
   "source": [
    "env_test.hand_tiles[curr_pid]"
   ]
  },
  {
   "cell_type": "code",
   "execution_count": null,
   "id": "b088c7c8-21cd-451f-873d-72c8a907a0d7",
   "metadata": {},
   "outputs": [],
   "source": [
    "env_test.can_riichi"
   ]
  },
  {
   "cell_type": "code",
   "execution_count": null,
   "id": "c9dc5c52-778e-4d63-991f-09320824705b",
   "metadata": {},
   "outputs": [],
   "source": [
    "env_test.t.get_self_actions()[0].action"
   ]
  },
  {
   "cell_type": "code",
   "execution_count": null,
   "id": "af601cc2-789e-49c2-9565-3a423b59adcb",
   "metadata": {},
   "outputs": [],
   "source": [
    "a = set([1,2,3,4,4])"
   ]
  },
  {
   "cell_type": "code",
   "execution_count": null,
   "id": "9a7ee32c-a8b0-41f1-a6c0-1deb006ca9cb",
   "metadata": {},
   "outputs": [],
   "source": [
    "list(a)"
   ]
  },
  {
   "cell_type": "code",
   "execution_count": null,
   "id": "082c8721-1427-466d-a8f2-cec268ef0f5f",
   "metadata": {},
   "outputs": [],
   "source": [
    "mp.Action.Kakan"
   ]
  },
  {
   "cell_type": "code",
   "execution_count": null,
   "id": "782ff4de-73d4-4f2f-86dd-bac3698193d8",
   "metadata": {},
   "outputs": [],
   "source": []
  }
 ],
 "metadata": {
  "kernelspec": {
   "display_name": "Python 3",
   "language": "python",
   "name": "python3"
  },
  "language_info": {
   "codemirror_mode": {
    "name": "ipython",
    "version": 3
   },
   "file_extension": ".py",
   "mimetype": "text/x-python",
   "name": "python",
   "nbconvert_exporter": "python",
   "pygments_lexer": "ipython3",
   "version": "3.6.2rc2"
  }
 },
 "nbformat": 4,
 "nbformat_minor": 5
}
