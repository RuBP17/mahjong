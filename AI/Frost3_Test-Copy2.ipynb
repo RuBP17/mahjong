{
 "cells": [
  {
   "cell_type": "code",
   "execution_count": 1,
   "id": "79c47d01-9abd-4519-84b5-ebc4c31af19a",
   "metadata": {},
   "outputs": [],
   "source": [
    "from wrapper import *\n",
    "import MahjongPy as mp\n",
    "import os\n",
    "import time\n",
    "import logging\n",
    "import warnings\n",
    "\n",
    "import numpy as np\n",
    "import scipy.io as sio\n",
    "import torch\n",
    "import matplotlib.pyplot as plt\n",
    "\n",
    "import mahjong\n",
    "from mahjong.shanten import Shanten\n",
    "\n",
    "from models import VLOG"
   ]
  },
  {
   "cell_type": "code",
   "execution_count": 2,
   "id": "2ef66e94-bd6f-4b3c-923f-9c9e2c8c1227",
   "metadata": {},
   "outputs": [],
   "source": [
    "\n",
    "player_i_hand_start_ind = [0, 63, 69, 75]  # later 3 in oracle_obs\n",
    "player_i_side_start_ind = [6, 12, 18, 24]\n",
    "player_i_river_start_ind = [30, 37, 44, 51]\n",
    "\n",
    "dora_indicator_ind = 58\n",
    "dora_ind = 59\n",
    "game_wind_ind = 60\n",
    "self_wind_ind = 61\n",
    "latest_tile_ind = 62\n",
    "\n",
    "aka_tile_ints = [16, 16 + 36, 16 + 36 + 36]\n",
    "player_obs_width = 63\n",
    "\n",
    "CHILEFT = 34\n",
    "CHIMIDDLE = 35\n",
    "CHIRIGHT = 36\n",
    "PON = 37\n",
    "ANKAN = 38\n",
    "MINKAN = 39\n",
    "ADDKAN = 40\n",
    "\n",
    "RIICHI = 41\n",
    "RON = 42\n",
    "TSUMO = 43\n",
    "PUSH = 44\n",
    "NOOP = 45"
   ]
  },
  {
   "cell_type": "code",
   "execution_count": 3,
   "id": "6afb4174-01d6-4f75-8ed2-8c8fd73cfa47",
   "metadata": {},
   "outputs": [],
   "source": [
    "\n",
    "UNICODE_TILES = \"\"\"\n",
    "    🀇 🀈 🀉 🀊 🀋 🀌 🀍 🀎 🀏 \n",
    "    🀙 🀚 🀛 🀜 🀝 🀞 🀟 🀠 🀡\n",
    "    🀐 🀑 🀒 🀓 🀔 🀕 🀖 🀗 🀘\n",
    "    🀀 🀁 🀂 🀃\n",
    "    🀆 🀅 🀄\n",
    "\"\"\".split()\n",
    "\n",
    "EXPLAINS = UNICODE_TILES + [\"Chi-Left\", \"Chi-Middle\", \"Chi-Right\", \"Pon\", \"An-Kan\",\n",
    "           \"Min-Kan\", \"Add-Kan\", \"Riichi\", \"Ron\", \"Tsumo\", \"Push 99\", \"Pass\", \"Pass\"]\n",
    "\n",
    "shanten = Shanten()\n",
    "\n",
    "def to_unicode_tails(tiles, sort=True):\n",
    "    unicode_tail_string = \"\"\n",
    "    if sort:\n",
    "        tiles = np.sort(np.array(tiles))\n",
    "\n",
    "    for tile in tiles:\n",
    "        unicode_tail_string = unicode_tail_string + UNICODE_TILES[int(tile / 4)]\n",
    "\n",
    "    return unicode_tail_string"
   ]
  },
  {
   "cell_type": "code",
   "execution_count": 4,
   "id": "297d7b31-3c87-4d62-b98f-bab50fb1f387",
   "metadata": {},
   "outputs": [],
   "source": [
    "env_test = EnvMahjong3(force_riichi=False, force_win=True, append_aval_action_obs=True)\n",
    "max_steps = 1000"
   ]
  },
  {
   "cell_type": "code",
   "execution_count": null,
   "id": "b95cd3bd-0206-4ef7-a4a4-13ea755d7f80",
   "metadata": {},
   "outputs": [],
   "source": [
    "# agent_test0 = torch.load(\"C:/code/snake/amlt/vlog_offlinemj_20210724/search_envid_1_beta_1e-05_alpha_1_kldt_10_cqla_10/data/mahjong_VLOG_DDQN_0.model\")\n",
    "# agent_test1 = torch.load(\"C:/code/snake/amlt/vlog_offlinemj_20210724/search_envid_1_beta_1e-05_alpha_1_kldt_10_cqla_10/data/mahjong_VLOG_DDQN_1.model\")\n",
    "# agent_test2 = torch.load(\"C:/code/snake/amlt/vlog_offlinemj_20210724/search_envid_1_beta_1e-05_alpha_1_kldt_10_cqla_10/data/mahjong_VLOG_DDQN_2.model\")\n",
    "# agent_test = torch.load(\"./vlog_offlinemj_20210724/search_envid_1_beta_0_alpha_1_kldt_-1_cqla_100/data/mahjong_VLOG_DDQN_0.model\")\n",
    "\n",
    "\n",
    "if torch.cuda.is_available():\n",
    "    device = \"cuda\"\n",
    "else:\n",
    "    device = \"cpu\"\n",
    "\n",
    "\n",
    "# agent_test0 = torch.load(\"./vlog_offlinemj_bc_20210802/search_beta_1e-06_alpha_1_kldt_10_bnt_0_eqn_1_cqla_0/data/mahjong_VLOG_BC_0.model\", map_location=torch.device(device))\n",
    "# agent_test1 = torch.load(\"./vlog_offlinemj_bc_20210802/search_beta_1e-06_alpha_1_kldt_10_bnt_0_eqn_1_cqla_0/data/mahjong_VLOG_BC_1.model\", map_location=torch.device(device))\n",
    "# agent_test2 = torch.load(\"./vlog_offlinemj_bc_20210802/search_beta_1e-06_alpha_1_kldt_10_bnt_0_eqn_1_cqla_0/data/mahjong_VLOG_BC_0.model\", map_location=torch.device(device))\n",
    "# agent_test3 = torch.load(\"./vlog_offlinemj_bc_20210802/search_beta_1e-06_alpha_1_kldt_10_bnt_0_eqn_1_cqla_0/data/mahjong_VLOG_BC_1.model\", map_location=torch.device(device))\n",
    "\n",
    "# agent_test0 = torch.load(\"./vlog_offlinemj_bc_20210802/search_beta_1e-06_alpha_1_kldt_10_bnt_0_eqn_1_cqla_0/data/mahjong_VLOG_BC_0.model\", map_location=torch.device(device))\n",
    "# agent_test1 = torch.load(\"./vlog_offlinemj_bc_20210802/search_beta_1e-06_alpha_1_kldt_10_bnt_0_eqn_1_cqla_0/data/mahjong_VLOG_BC_1.model\", map_location=torch.device(device))\n",
    "# agent_test2 = torch.load(\"./vlog_offlinemj_bc_20210802/search_beta_0_alpha_1_kldt_-1_bnt_0_eqn_1_cqla_0/data/mahjong_VLOG_BC_2.model\", map_location=torch.device(device))\n",
    "# agent_test3 = torch.load(\"./vlog_offlinemj_bc_20210802/search_beta_0_alpha_1_kldt_-1_bnt_0_eqn_1_cqla_0/data/mahjong_VLOG_BC_3.model\", map_location=torch.device(device))\n",
    "\n",
    "\n",
    "agent_test0 = torch.load(\"./vlog_offlinemj_bc_20210807/search_envid_1_beta_0_alpha_1_kldt_10_bnt_0_dpo_0.25_eqn_1_cqla_0/data/mahjong_VLOG_BC_2.model\", map_location=torch.device(device))\n",
    "agent_test1 = torch.load(\"./vlog_offlinemj_bc_20210807/search_envid_1_beta_0_alpha_1_kldt_10_bnt_0_dpo_0.25_eqn_1_cqla_0/data/mahjong_VLOG_BC_3.model\", map_location=torch.device(device))\n",
    "agent_test2 = torch.load(\"./vlog_offlinemj_bc_20210807/search_envid_1_beta_0_alpha_1_kldt_10_bnt_0_dpo_0_eqn_1_cqla_0/data/mahjong_VLOG_BC_2.model\", map_location=torch.device(device))\n",
    "agent_test3 = torch.load(\"./vlog_offlinemj_bc_20210807/search_envid_1_beta_0_alpha_1_kldt_10_bnt_0_dpo_0_eqn_1_cqla_0/data/mahjong_VLOG_BC_3.model\", map_location=torch.device(device))\n",
    "\n"
   ]
  },
  {
   "cell_type": "code",
   "execution_count": null,
   "id": "700f2a84-56cc-48a4-93ec-65070b7c4a4a",
   "metadata": {},
   "outputs": [],
   "source": [
    "\n",
    "agents_test = [agent_test0, agent_test1, agent_test2, agent_test3]\n",
    "\n",
    "for agent in agents_test:\n",
    "    agent.device = device\n"
   ]
  },
  {
   "cell_type": "code",
   "execution_count": null,
   "id": "4ab3f0eb-0708-468f-a1c2-7094b0fd5164",
   "metadata": {},
   "outputs": [],
   "source": []
  },
  {
   "cell_type": "code",
   "execution_count": null,
   "id": "3786d880-75f1-42c0-8f7d-7f770f3a06db",
   "metadata": {},
   "outputs": [],
   "source": []
  },
  {
   "cell_type": "code",
   "execution_count": null,
   "id": "21c241c7-7dd1-4ae3-80a9-a24e49e86162",
   "metadata": {},
   "outputs": [],
   "source": []
  },
  {
   "cell_type": "code",
   "execution_count": null,
   "id": "2adeda03-3bd2-48bf-9fff-d3277dab2101",
   "metadata": {},
   "outputs": [],
   "source": []
  },
  {
   "cell_type": "code",
   "execution_count": null,
   "id": "044f978e-ccd0-48b0-b8bb-de17716abab9",
   "metadata": {},
   "outputs": [],
   "source": [
    "full_obs = False"
   ]
  },
  {
   "cell_type": "code",
   "execution_count": null,
   "id": "ba90c2ea-6276-46ff-9f54-b2f646fb4787",
   "metadata": {},
   "outputs": [],
   "source": [
    "EpiTestRet = 0\n",
    "steps_taken = 0\n",
    "\n",
    "game = 0\n",
    "\n",
    "tsumo_times = 0\n",
    "liuju_times = 0\n",
    "noten_times = 0\n",
    "houjyu_times = 0\n",
    "riichi_times = 0\n",
    "\n",
    "riichi_agari_times = 0\n",
    "yami_agari_times = 0\n",
    "\n",
    "fulu_times = 0\n",
    "agari_turns = []\n",
    "agari_times = 0\n",
    "\n",
    "agari_scores = []\n",
    "total_results = []\n",
    "\n",
    "while game < 200000:\n",
    "    print(\"==============================Game {}=============================\".format(game))\n",
    "    # reset each episode\n",
    "    if game % 10 == 1:\n",
    "        try:\n",
    "            print(\"------------------------- Statistics ----------------------\")\n",
    "            print(\"平均结果:\", (np.mean(np.array(total_results), axis=0)))\n",
    "            print(\"结果M.S.E.\", np.array(total_results).std(axis=0) / np.sqrt(game))\n",
    "            print(\"自摸率： %f \" % (tsumo_times * 100 / agari_times))\n",
    "            print(\"放铳率： %f \" % (houjyu_times * 100 / game / 4))\n",
    "            print(\"和了率： %f \" % (agari_times * 100 / game / 4))\n",
    "            print(\"副露率： %f \" % (fulu_times * 100 / game / 4))\n",
    "            print(\"立直率： %f \" % (riichi_times * 100 / game))\n",
    "            print(\"立直成功率： %f \" % (riichi_agari_times * 100 / riichi_times))\n",
    "            print(\"暗和率： %f \" % (yami_agari_times  * 100/ agari_times))\n",
    "            print(\"流局率： %f\" % ((game - agari_times) * 100 / game))\n",
    "            print(\"平均和牌时还剩几张牌： %f \" % (np.sum(agari_turns) / agari_times))\n",
    "            print(\"四家无听流局率： %f\" % (noten_times * 100 / game))\n",
    "            print(\"平均打点：%d \" % (np.mean(agari_scores)))\n",
    "        except:\n",
    "            pass\n",
    "    try:\n",
    "        sp = env_test.reset(game % 4, 'east')\n",
    "        result_array = np.zeros([4])\n",
    "        done = False\n",
    "        has_riichi = [False] * 4\n",
    "\n",
    "        for tt in range(max_steps):\n",
    "\n",
    "            # if curr_pid != 0:\n",
    "            #     a = valid_actions[np.random.randint(len(valid_actions))]\n",
    "\n",
    "            valid_actions = env_test.get_valid_actions(nhot=False)\n",
    "\n",
    "            if len(valid_actions) == 1:\n",
    "                env_test.t.make_selection(0)\n",
    "\n",
    "            else:\n",
    "                curr_pid = env_test.get_curr_player_id()\n",
    "\n",
    "                action_mask = env_test.get_valid_actions(nhot=True)\n",
    "\n",
    "                if not full_obs:\n",
    "                    a = agents_test[curr_pid].select(env_test.get_obs(curr_pid), action_mask, greedy=True)\n",
    "                else:\n",
    "                    a = agents_test[curr_pid].select(env_test.get_full_obs(curr_pid), action_mask, greedy=True)\n",
    "                \n",
    "                if a == RIICHI:\n",
    "                    riichi_times += 1\n",
    "                    has_riichi[curr_pid] = True\n",
    "\n",
    "#                 if a == TSUMO:\n",
    "#                     print(env_test.get_full_obs(0)[player_i_river_start_ind[curr_pid]:player_i_river_start_ind[curr_pid] + 7,  int(env_test.latest_tile / 4)])\n",
    "#                     plt.pcolor(env_test.get_obs(curr_pid))\n",
    "#                     plt.show()\n",
    "\n",
    "#                 if curr_pid == 0 and len(valid_actions) > 1:\n",
    "#                     print(\"-------------- Step {}, player {} ----------------\".format(tt, curr_pid))\n",
    "#                     print(env_test.Phases[env_test.t.get_phase()], \"Recent Tile:\", to_unicode_tails([env_test.latest_tile]))\n",
    "#                     side_tiles_0 = [st[0] for st in env_test.side_tiles[curr_pid]]\n",
    "#                     print(\"手牌: \", to_unicode_tails(env_test.hand_tiles[curr_pid]),\n",
    "#                           \"； 副露：\", to_unicode_tails(side_tiles_0))\n",
    "#                     if a < 34:\n",
    "#                         agent_selection_str = UNICODE_TILES[a]\n",
    "#                     else:\n",
    "#                         agent_selection_str = EXPLAINS[a]\n",
    "                \n",
    "#                     print(\"Agent选择打: \", agent_selection_str)\n",
    "\n",
    "                sp, r, done, _ = env_test.step(curr_pid, a)\n",
    "                if r < 0 and not done:\n",
    "                    result_array[curr_pid] += r * 100\n",
    "\n",
    "            steps_taken += 1\n",
    "\n",
    "            if done or env_test.t.get_phase() == 16:\n",
    "                payoffs = env_test.get_payoffs()\n",
    "                # EpiTestRet += payoffs[0]\n",
    "                result_array += np.array(payoffs) * 100\n",
    "                print(\"~~~~~~~~~~~~Result: \", payoffs)\n",
    "                total_results.append(result_array)\n",
    "                for uid in range(4):\n",
    "                    if len(env_test.side_tiles[uid]) >= 3:\n",
    "                        fulu_times += 1\n",
    "                \n",
    "                if env_test.t.get_remain_tile() == 0:\n",
    "                    liuju_times += 1\n",
    "                    if np.max(payoffs) == 0:\n",
    "                        noten_times += 1\n",
    "                \n",
    "                if env_test.t.get_remain_tile() > 0 and np.max(payoffs) > 0:  # not 流局\n",
    "                    \n",
    "                    agari_turns.append(env_test.t.get_remain_tile())\n",
    "                    \n",
    "                    if has_riichi[np.argmax(payoffs)]:\n",
    "                        riichi_agari_times += 1\n",
    "                    else:\n",
    "                        yami_agari_times += 1\n",
    "                    \n",
    "                    if np.count_nonzero(result_array < 0) == 3:\n",
    "                        tsumo_times += 1\n",
    "                    else:\n",
    "                        houjyu_times += 1\n",
    "                        \n",
    "                    agari_times += 1\n",
    "                    agari_scores.append(np.max(result_array))\n",
    "                    \n",
    "#                     win_pid = np.argmax(result_array)\n",
    "#                     print(env_test.Phases[env_test.t.get_phase()], \"Recent Tile:\", to_unicode_tails([env_test.latest_tile]))\n",
    "#                     side_tiles_0 = [st[0] for st in env_test.side_tiles[win_pid]]\n",
    "#                     print(\"手牌: \", to_unicode_tails(env_test.hand_tiles[win_pid]),\n",
    "#                           \"； 副露：\", to_unicode_tails(side_tiles_0))\n",
    "\n",
    "                # print(env_test.t.game_log.to_string())\n",
    "#                 if np.max(payoffs) > 0:\n",
    "#                     plt.pcolor(sp)\n",
    "#                     plt.show()\n",
    "#                     print(env_test.Phases[env_test.t.get_phase()], \"Recent Tile:\", to_unicode_tails([env_test.latest_tile]))\n",
    "#                     side_tiles_0 = [st[0] for st in env_test.side_tiles[np.argmax(payoffs)]]\n",
    "#                     print(\"手牌: \", to_unicode_tails(env_test.hand_tiles[np.argmax(payoffs)]),\n",
    "#                       \"； 副露：\", to_unicode_tails(side_tiles_0))\n",
    "                break\n",
    "\n",
    "#             if not done and env_test.t.get_phase() == 0:\n",
    "#                 shanten_num = np.zeros(4)\n",
    "#                 for pid in range(4):\n",
    "#                     shanten_num[pid] = shanten.calculate_shanten(TilesConverter.to_34_array(\n",
    "#                         env_test.hand_tiles[pid] + [st[0] for st in env_test.side_tiles[pid]]))\n",
    "#                 print(\"向听数:\", shanten_num)\n",
    "        game += 1\n",
    "\n",
    "    except Exception as e:\n",
    "        print(e)\n",
    "        if a < 34:\n",
    "            agent_selection_str = UNICODE_TILES[a]\n",
    "        else:\n",
    "            agent_selection_str = EXPLAINS[a]\n",
    "        print(\"Agent选择打: \", a)\n",
    "        time.sleep(0.1)\n",
    "        continue\n"
   ]
  },
  {
   "cell_type": "code",
   "execution_count": null,
   "id": "78e5036b-4689-43aa-94d6-e01b2a39463a",
   "metadata": {},
   "outputs": [],
   "source": []
  },
  {
   "cell_type": "code",
   "execution_count": null,
   "id": "dbc7718f-a1f4-4f14-a454-51e4b0b9ee35",
   "metadata": {},
   "outputs": [],
   "source": [
    "total_results_array = np.array(total_results)\n",
    "sampled_games = np.zeros([10000, 8, 4])\n",
    "for i in range(10000):\n",
    "    sampled_games[i] = total_results_array[np.random.choice(len(total_results_array), 8)]\n",
    "sampled_match_results = sampled_games.sum(-2)\n",
    "\n",
    "win_rate = ((sampled_games[:, :, 0] + sampled_games[:, :, 1]).sum(1) > (sampled_games[:, :, 2] + sampled_games[:, :, 3]).sum(1)).mean(0) \n",
    "print(win_rate)"
   ]
  },
  {
   "cell_type": "code",
   "execution_count": null,
   "id": "f81172d0-88a4-4e03-ae32-5c185d9b7d06",
   "metadata": {},
   "outputs": [],
   "source": [
    "for pid in range(4):\n",
    "    print(np.mean(np.argmax(sampled_match_results, axis=-1) == pid) * 100, np.std(np.argmax(sampled_match_results, axis=-1) == pid) / 10000 ** 0.5 * 100)"
   ]
  },
  {
   "cell_type": "code",
   "execution_count": null,
   "id": "8d45c02e-00c8-457e-8998-3a6865552f3e",
   "metadata": {},
   "outputs": [],
   "source": []
  },
  {
   "cell_type": "code",
   "execution_count": null,
   "id": "6f7345ba-976c-4167-b50f-eec44bc3adb0",
   "metadata": {},
   "outputs": [],
   "source": []
  },
  {
   "cell_type": "code",
   "execution_count": null,
   "id": "ae4a8543-cb10-4a27-b926-d53d636137ae",
   "metadata": {},
   "outputs": [],
   "source": [
    "np.array(total_results).std(axis=0) * 100 / np.sqrt(game)"
   ]
  },
  {
   "cell_type": "code",
   "execution_count": null,
   "id": "7ec4834e-7057-4a64-9445-de427fc936ea",
   "metadata": {},
   "outputs": [],
   "source": [
    "to_unicode_tails(env_test.hand_tiles[3])"
   ]
  },
  {
   "cell_type": "code",
   "execution_count": null,
   "id": "b31e0b7c-e5d9-4bb4-8317-bef90388d2f8",
   "metadata": {},
   "outputs": [],
   "source": [
    "plt.pcolor(env_test.get_obs(3)[:6, :])\n",
    "plt.show()"
   ]
  },
  {
   "cell_type": "code",
   "execution_count": null,
   "id": "4fdbe506-2a2a-4c56-9211-a913d1a0b41e",
   "metadata": {},
   "outputs": [],
   "source": [
    "env_test.can_riichi_tiles_id"
   ]
  },
  {
   "cell_type": "code",
   "execution_count": null,
   "id": "430827ec-12d6-4f40-b6e9-86176f91ffc4",
   "metadata": {},
   "outputs": [],
   "source": [
    "for act in env_test.t.get_self_actions():\n",
    "    print(act.action)\n",
    "    print(int(act.correspond_tiles[0].tile))"
   ]
  },
  {
   "cell_type": "code",
   "execution_count": null,
   "id": "80cf373e-20c0-4274-bc0d-276371030242",
   "metadata": {},
   "outputs": [],
   "source": [
    "env_test.riichi_tile_id"
   ]
  },
  {
   "cell_type": "code",
   "execution_count": null,
   "id": "8c14d59e-f811-4f0a-9866-8ac67712f54d",
   "metadata": {},
   "outputs": [],
   "source": [
    "int(env_test.t.get_selected_action_tile().tile)"
   ]
  },
  {
   "cell_type": "code",
   "execution_count": null,
   "id": "62b657c5-2d97-4e26-8aba-b5e0fb172e1f",
   "metadata": {},
   "outputs": [],
   "source": [
    "env_test.t.get_response_actions()[0].action"
   ]
  },
  {
   "cell_type": "code",
   "execution_count": null,
   "id": "3d8f021e-e75c-4880-8e96-ef19fc341722",
   "metadata": {},
   "outputs": [],
   "source": [
    "env_test.t.players[curr_pid].hand.__len__()"
   ]
  },
  {
   "cell_type": "code",
   "execution_count": null,
   "id": "f8c87741-525f-4f5e-be58-acfb960c7a41",
   "metadata": {},
   "outputs": [],
   "source": [
    "env_test.Phases[env_test.t.get_phase()]"
   ]
  },
  {
   "cell_type": "code",
   "execution_count": null,
   "id": "41e9f653-cf42-4f27-b7af-6712dc1e7c7c",
   "metadata": {},
   "outputs": [],
   "source": [
    "env_test.hand_tiles[curr_pid]"
   ]
  },
  {
   "cell_type": "code",
   "execution_count": null,
   "id": "b088c7c8-21cd-451f-873d-72c8a907a0d7",
   "metadata": {},
   "outputs": [],
   "source": [
    "env_test.can_riichi"
   ]
  },
  {
   "cell_type": "code",
   "execution_count": null,
   "id": "c9dc5c52-778e-4d63-991f-09320824705b",
   "metadata": {},
   "outputs": [],
   "source": [
    "env_test.t.get_self_actions()[0].action"
   ]
  },
  {
   "cell_type": "code",
   "execution_count": null,
   "id": "af601cc2-789e-49c2-9565-3a423b59adcb",
   "metadata": {},
   "outputs": [],
   "source": [
    "a = set([1,2,3,4,4])"
   ]
  },
  {
   "cell_type": "code",
   "execution_count": null,
   "id": "9a7ee32c-a8b0-41f1-a6c0-1deb006ca9cb",
   "metadata": {},
   "outputs": [],
   "source": [
    "list(a)"
   ]
  },
  {
   "cell_type": "code",
   "execution_count": null,
   "id": "082c8721-1427-466d-a8f2-cec268ef0f5f",
   "metadata": {},
   "outputs": [],
   "source": [
    "mp.Action.Kakan"
   ]
  },
  {
   "cell_type": "code",
   "execution_count": null,
   "id": "782ff4de-73d4-4f2f-86dd-bac3698193d8",
   "metadata": {},
   "outputs": [],
   "source": []
  }
 ],
 "metadata": {
  "kernelspec": {
   "display_name": "Python 3",
   "language": "python",
   "name": "python3"
  },
  "language_info": {
   "codemirror_mode": {
    "name": "ipython",
    "version": 3
   },
   "file_extension": ".py",
   "mimetype": "text/x-python",
   "name": "python",
   "nbconvert_exporter": "python",
   "pygments_lexer": "ipython3",
   "version": "3.6.2rc2"
  }
 },
 "nbformat": 4,
 "nbformat_minor": 5
}
